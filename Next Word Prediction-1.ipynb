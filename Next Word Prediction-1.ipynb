{
 "cells": [
  {
   "cell_type": "markdown",
   "metadata": {},
   "source": [
    "# Next Word Prediction:"
   ]
  },
  {
   "cell_type": "markdown",
   "metadata": {},
   "source": [
    "### Importing The Required Libraries:"
   ]
  },
  {
   "cell_type": "code",
   "execution_count": 1,
   "metadata": {},
   "outputs": [],
   "source": [
    "import warnings\n",
    "warnings.filterwarnings('ignore')\n",
    "import tensorflow as tf\n",
    "from tensorflow.keras.preprocessing.text import Tokenizer\n",
    "from tensorflow.keras.layers import Embedding, LSTM, Dense\n",
    "from tensorflow.keras.models import Sequential\n",
    "from tensorflow.keras.utils import to_categorical\n",
    "from tensorflow.keras.optimizers import Adam\n",
    "import pickle\n",
    "import numpy as np\n",
    "import os"
   ]
  },
  {
   "cell_type": "code",
   "execution_count": 2,
   "metadata": {},
   "outputs": [],
   "source": [
    "\n",
    "sess = tf.compat.v1.Session(config=tf.compat.v1.ConfigProto(log_device_placement=True))\n"
   ]
  },
  {
   "cell_type": "code",
   "execution_count": 3,
   "metadata": {},
   "outputs": [
    {
     "name": "stdout",
     "output_type": "stream",
     "text": [
      "The First Line:  فصل اول: مقدمه\n",
      "\n",
      "The Last Line:  \n",
      "\n"
     ]
    }
   ],
   "source": [
    "file = open(\"corpus-zare.txt\", \"r\", encoding = \"utf8\")\n",
    "lines = []\n",
    "\n",
    "for i in file:\n",
    "    lines.append(i)\n",
    "    \n",
    "print(\"The First Line: \", lines[0])\n",
    "print(\"The Last Line: \", lines[-1])"
   ]
  },
  {
   "cell_type": "markdown",
   "metadata": {},
   "source": [
    "### Cleaning the data:"
   ]
  },
  {
   "cell_type": "code",
   "execution_count": 4,
   "metadata": {},
   "outputs": [
    {
     "data": {
      "text/plain": [
       "'فصل اول: مقدمه پیشرفت هوش مصنوعی در زمینه\\u200cهای مختلف در سال\\u200cهای اخیر باعث شده تا آحاد مردم نگاه ویژه\\u200cای به آن داشته باشند و مطالبه این موضوع که مسایل مختلفی را با استفاده از الگوریتم\\u200cهای هوش مصنوعی  بتوانند حل کنند مورد دور از ذهنی به شمار نمی\\u200cآید. بسیاری از این مسایل مواردی هستند که در گذشته ما وجود داشته\\u200cاند و در زمان خود به دلیل کمبود امکانات، فقدان تکنولو'"
      ]
     },
     "execution_count": 4,
     "metadata": {},
     "output_type": "execute_result"
    }
   ],
   "source": [
    "data = \"\"\n",
    "\n",
    "for i in lines:\n",
    "    data = ' '. join(lines)\n",
    "    \n",
    "data = data.replace('\\n', '').replace('\\r', '').replace('\\ufeff', '')\n",
    "data[:360]"
   ]
  },
  {
   "cell_type": "code",
   "execution_count": 5,
   "metadata": {},
   "outputs": [
    {
     "data": {
      "text/plain": [
       "'فصل اول  مقدمه پیشرفت هوش مصنوعی در زمینه\\u200cهای مختلف در سال\\u200cهای اخیر باعث شده تا آحاد مردم نگاه ویژه\\u200cای به آن داشته باشند و مطالبه این موضوع که مسایل مختلفی را با استفاده از الگوریتم\\u200cهای هوش مصنوعی  بتوانند حل کنند مورد دور از ذهنی به شمار نمی\\u200cآید  بسیاری از این مسایل مواردی هستند که در گذشته ما وجود داشته\\u200cاند و در زمان خود به دلیل کمبود امکانات، فقدان تکنولوژی\\u200cهای لازم یا نبودن شرایط، این مسایل حل نشده\\u200cاند که به صورت یک موضوع قابل بحث در دنیا مطرح می\\u200cباشند  یکی از این مسایل که در حوزه هنر و تکنو'"
      ]
     },
     "execution_count": 5,
     "metadata": {},
     "output_type": "execute_result"
    }
   ],
   "source": [
    "import string\n",
    "\n",
    "translator = str.maketrans(string.punctuation, ' '*len(string.punctuation)) #map punctuation to space\n",
    "new_data = data.translate(translator)\n",
    "\n",
    "new_data[:500]"
   ]
  },
  {
   "cell_type": "code",
   "execution_count": 6,
   "metadata": {},
   "outputs": [
    {
     "data": {
      "text/plain": [
       "'فصل اول: مقدمه پیشرفت هوش مصنوعی در زمینه\\u200cهای مختلف سال\\u200cهای اخیر باعث شده تا آحاد مردم نگاه ویژه\\u200cای به آن داشته باشند و مطالبه این موضوع که مسایل مختلفی را با استفاده از الگوریتم\\u200cهای بتوانند حل کنند مورد دور ذهنی شمار نمی\\u200cآید. بسیاری مواردی هستند گذشته ما وجود داشته\\u200cاند زمان خود دلیل کمبود امکانات، فقدان تکنولوژی\\u200cهای لازم یا نبودن شرایط، نشده\\u200cاند صورت یک قابل بحث دنیا مطرح می\\u200cباشند. یکی حوزه هنر تکنولوژی دارد مربوط زمانی است اولین دوربین\\u200cهای عکاسی اختراع کارگیری شدند، امکان ثبت تصاویر رنگی نداشت'"
      ]
     },
     "execution_count": 6,
     "metadata": {},
     "output_type": "execute_result"
    }
   ],
   "source": [
    "z = []\n",
    "\n",
    "for i in data.split():\n",
    "    if i not in z:\n",
    "        z.append(i)\n",
    "        \n",
    "data = ' '.join(z)\n",
    "data[:500]"
   ]
  },
  {
   "cell_type": "code",
   "execution_count": 7,
   "metadata": {},
   "outputs": [],
   "source": [
    "file1 = open(\"corpus-zare-cleaned.txt\",\"w\", encoding = \"utf8\")\n",
    "file1.write(data)\n",
    "file1.close() #to change file access modes"
   ]
  },
  {
   "cell_type": "markdown",
   "metadata": {},
   "source": [
    "### Tokenization:"
   ]
  },
  {
   "cell_type": "code",
   "execution_count": 17,
   "metadata": {},
   "outputs": [
    {
     "data": {
      "text/plain": [
       "[138, 45, 139, 140, 141, 142, 143, 144, 145, 146]"
      ]
     },
     "execution_count": 17,
     "metadata": {},
     "output_type": "execute_result"
    }
   ],
   "source": [
    "tokenizer = Tokenizer()\n",
    "tokenizer.fit_on_texts([data])\n",
    "\n",
    "# saving the tokenizer for predict function.\n",
    "pickle.dump(tokenizer, open('tokenizer1-zare.pkl', 'wb'))\n",
    "\n",
    "sequence_data = tokenizer.texts_to_sequences([data])[0]\n",
    "sequence_data[:10]"
   ]
  },
  {
   "cell_type": "code",
   "execution_count": 18,
   "metadata": {},
   "outputs": [
    {
     "name": "stdout",
     "output_type": "stream",
     "text": [
      "1874\n"
     ]
    }
   ],
   "source": [
    "vocab_size = len(tokenizer.word_index) + 1\n",
    "print(vocab_size)"
   ]
  },
  {
   "cell_type": "code",
   "execution_count": 19,
   "metadata": {},
   "outputs": [
    {
     "name": "stdout",
     "output_type": "stream",
     "text": [
      "The Length of sequences are:  2220\n"
     ]
    },
    {
     "data": {
      "text/plain": [
       "array([[138,  45],\n",
       "       [ 45, 139],\n",
       "       [139, 140],\n",
       "       [140, 141],\n",
       "       [141, 142],\n",
       "       [142, 143],\n",
       "       [143, 144],\n",
       "       [144, 145],\n",
       "       [145, 146],\n",
       "       [146, 147]])"
      ]
     },
     "execution_count": 19,
     "metadata": {},
     "output_type": "execute_result"
    }
   ],
   "source": [
    "sequences = []\n",
    "\n",
    "for i in range(1, len(sequence_data)):\n",
    "    words = sequence_data[i-1:i+1]\n",
    "    sequences.append(words)\n",
    "    \n",
    "print(\"The Length of sequences are: \", len(sequences))\n",
    "sequences = np.array(sequences)\n",
    "sequences[:10]"
   ]
  },
  {
   "cell_type": "code",
   "execution_count": 20,
   "metadata": {},
   "outputs": [],
   "source": [
    "X = []\n",
    "y = []\n",
    "\n",
    "for i in sequences:\n",
    "    X.append(i[0])\n",
    "    y.append(i[1])\n",
    "    \n",
    "X = np.array(X)\n",
    "y = np.array(y)"
   ]
  },
  {
   "cell_type": "code",
   "execution_count": 21,
   "metadata": {},
   "outputs": [
    {
     "name": "stdout",
     "output_type": "stream",
     "text": [
      "The Data is:  [138  45 139 140 141]\n",
      "The responses are:  [ 45 139 140 141 142]\n"
     ]
    }
   ],
   "source": [
    "print(\"The Data is: \", X[:5])\n",
    "print(\"The responses are: \", y[:5])"
   ]
  },
  {
   "cell_type": "code",
   "execution_count": 22,
   "metadata": {},
   "outputs": [
    {
     "data": {
      "text/plain": [
       "array([[0., 0., 0., ..., 0., 0., 0.],\n",
       "       [0., 0., 0., ..., 0., 0., 0.],\n",
       "       [0., 0., 0., ..., 0., 0., 0.],\n",
       "       [0., 0., 0., ..., 0., 0., 0.],\n",
       "       [0., 0., 0., ..., 0., 0., 0.]], dtype=float32)"
      ]
     },
     "execution_count": 22,
     "metadata": {},
     "output_type": "execute_result"
    }
   ],
   "source": [
    "y = to_categorical(y, num_classes=vocab_size)\n",
    "y[:5]"
   ]
  },
  {
   "cell_type": "markdown",
   "metadata": {},
   "source": [
    "### Creating the Model:"
   ]
  },
  {
   "cell_type": "code",
   "execution_count": 23,
   "metadata": {},
   "outputs": [],
   "source": [
    "model = Sequential()\n",
    "model.add(Embedding(vocab_size, 10, input_length=1))\n",
    "model.add(LSTM(1000, return_sequences=True))\n",
    "model.add(LSTM(1000))\n",
    "model.add(Dense(1000, activation=\"relu\"))\n",
    "model.add(Dense(vocab_size, activation=\"softmax\"))"
   ]
  },
  {
   "cell_type": "code",
   "execution_count": 24,
   "metadata": {},
   "outputs": [
    {
     "name": "stdout",
     "output_type": "stream",
     "text": [
      "Model: \"sequential_1\"\n",
      "_________________________________________________________________\n",
      "Layer (type)                 Output Shape              Param #   \n",
      "=================================================================\n",
      "embedding_1 (Embedding)      (None, 1, 10)             18740     \n",
      "_________________________________________________________________\n",
      "lstm_2 (LSTM)                (None, 1, 1000)           4044000   \n",
      "_________________________________________________________________\n",
      "lstm_3 (LSTM)                (None, 1000)              8004000   \n",
      "_________________________________________________________________\n",
      "dense_2 (Dense)              (None, 1000)              1001000   \n",
      "_________________________________________________________________\n",
      "dense_3 (Dense)              (None, 1874)              1875874   \n",
      "=================================================================\n",
      "Total params: 14,943,614\n",
      "Trainable params: 14,943,614\n",
      "Non-trainable params: 0\n",
      "_________________________________________________________________\n"
     ]
    }
   ],
   "source": [
    "model.summary()"
   ]
  },
  {
   "cell_type": "markdown",
   "metadata": {},
   "source": [
    "### Plot The Model:"
   ]
  },
  {
   "cell_type": "code",
   "execution_count": 25,
   "metadata": {},
   "outputs": [
    {
     "ename": "ImportError",
     "evalue": "cannot import name 'get_config' from 'tensorflow.python.eager.context' (C:\\Users\\Platinum\\ana3\\envs\\arioo5\\lib\\site-packages\\tensorflow\\python\\eager\\context.py)",
     "output_type": "error",
     "traceback": [
      "\u001b[1;31m---------------------------------------------------------------------------\u001b[0m",
      "\u001b[1;31mImportError\u001b[0m                               Traceback (most recent call last)",
      "\u001b[1;32m~\\AppData\\Local\\Temp\\ipykernel_3648\\3869421814.py\u001b[0m in \u001b[0;36m<module>\u001b[1;34m\u001b[0m\n\u001b[0;32m      1\u001b[0m \u001b[1;32mfrom\u001b[0m \u001b[0mtensorflow\u001b[0m \u001b[1;32mimport\u001b[0m \u001b[0mkeras\u001b[0m\u001b[1;33m\u001b[0m\u001b[1;33m\u001b[0m\u001b[0m\n\u001b[1;32m----> 2\u001b[1;33m \u001b[1;32mfrom\u001b[0m \u001b[0mkeras\u001b[0m\u001b[1;33m.\u001b[0m\u001b[0mutils\u001b[0m\u001b[1;33m.\u001b[0m\u001b[0mvis_utils\u001b[0m \u001b[1;32mimport\u001b[0m \u001b[0mplot_model\u001b[0m\u001b[1;33m\u001b[0m\u001b[1;33m\u001b[0m\u001b[0m\n\u001b[0m\u001b[0;32m      3\u001b[0m \u001b[1;33m\u001b[0m\u001b[0m\n\u001b[0;32m      4\u001b[0m \u001b[0mkeras\u001b[0m\u001b[1;33m.\u001b[0m\u001b[0mutils\u001b[0m\u001b[1;33m.\u001b[0m\u001b[0mplot_model\u001b[0m\u001b[1;33m(\u001b[0m\u001b[0mmodel\u001b[0m\u001b[1;33m,\u001b[0m \u001b[0mto_file\u001b[0m\u001b[1;33m=\u001b[0m\u001b[1;34m'model.png'\u001b[0m\u001b[1;33m,\u001b[0m \u001b[0mshow_layer_names\u001b[0m\u001b[1;33m=\u001b[0m\u001b[1;32mTrue\u001b[0m\u001b[1;33m)\u001b[0m\u001b[1;33m\u001b[0m\u001b[1;33m\u001b[0m\u001b[0m\n",
      "\u001b[1;32m~\\ana3\\envs\\arioo5\\lib\\site-packages\\keras\\__init__.py\u001b[0m in \u001b[0;36m<module>\u001b[1;34m\u001b[0m\n\u001b[0;32m     22\u001b[0m \u001b[1;32mfrom\u001b[0m \u001b[0mkeras\u001b[0m \u001b[1;32mimport\u001b[0m \u001b[0mdistribute\u001b[0m\u001b[1;33m\u001b[0m\u001b[1;33m\u001b[0m\u001b[0m\n\u001b[0;32m     23\u001b[0m \u001b[1;33m\u001b[0m\u001b[0m\n\u001b[1;32m---> 24\u001b[1;33m \u001b[1;32mfrom\u001b[0m \u001b[0mkeras\u001b[0m \u001b[1;32mimport\u001b[0m \u001b[0mmodels\u001b[0m\u001b[1;33m\u001b[0m\u001b[1;33m\u001b[0m\u001b[0m\n\u001b[0m\u001b[0;32m     25\u001b[0m \u001b[1;33m\u001b[0m\u001b[0m\n\u001b[0;32m     26\u001b[0m \u001b[1;32mfrom\u001b[0m \u001b[0mkeras\u001b[0m\u001b[1;33m.\u001b[0m\u001b[0mengine\u001b[0m\u001b[1;33m.\u001b[0m\u001b[0minput_layer\u001b[0m \u001b[1;32mimport\u001b[0m \u001b[0mInput\u001b[0m\u001b[1;33m\u001b[0m\u001b[1;33m\u001b[0m\u001b[0m\n",
      "\u001b[1;32m~\\ana3\\envs\\arioo5\\lib\\site-packages\\keras\\models\\__init__.py\u001b[0m in \u001b[0;36m<module>\u001b[1;34m\u001b[0m\n\u001b[0;32m     16\u001b[0m \u001b[1;31m# pylint: disable=g-bad-import-order\u001b[0m\u001b[1;33m\u001b[0m\u001b[1;33m\u001b[0m\u001b[1;33m\u001b[0m\u001b[0m\n\u001b[0;32m     17\u001b[0m \u001b[1;33m\u001b[0m\u001b[0m\n\u001b[1;32m---> 18\u001b[1;33m \u001b[1;32mfrom\u001b[0m \u001b[0mkeras\u001b[0m\u001b[1;33m.\u001b[0m\u001b[0mengine\u001b[0m\u001b[1;33m.\u001b[0m\u001b[0mfunctional\u001b[0m \u001b[1;32mimport\u001b[0m \u001b[0mFunctional\u001b[0m\u001b[1;33m\u001b[0m\u001b[1;33m\u001b[0m\u001b[0m\n\u001b[0m\u001b[0;32m     19\u001b[0m \u001b[1;32mfrom\u001b[0m \u001b[0mkeras\u001b[0m\u001b[1;33m.\u001b[0m\u001b[0mengine\u001b[0m\u001b[1;33m.\u001b[0m\u001b[0msequential\u001b[0m \u001b[1;32mimport\u001b[0m \u001b[0mSequential\u001b[0m\u001b[1;33m\u001b[0m\u001b[1;33m\u001b[0m\u001b[0m\n\u001b[0;32m     20\u001b[0m \u001b[1;32mfrom\u001b[0m \u001b[0mkeras\u001b[0m\u001b[1;33m.\u001b[0m\u001b[0mengine\u001b[0m\u001b[1;33m.\u001b[0m\u001b[0mtraining\u001b[0m \u001b[1;32mimport\u001b[0m \u001b[0mModel\u001b[0m\u001b[1;33m\u001b[0m\u001b[1;33m\u001b[0m\u001b[0m\n",
      "\u001b[1;32m~\\ana3\\envs\\arioo5\\lib\\site-packages\\keras\\engine\\functional.py\u001b[0m in \u001b[0;36m<module>\u001b[1;34m\u001b[0m\n\u001b[0;32m     21\u001b[0m \u001b[1;32mimport\u001b[0m \u001b[0mitertools\u001b[0m\u001b[1;33m\u001b[0m\u001b[1;33m\u001b[0m\u001b[0m\n\u001b[0;32m     22\u001b[0m \u001b[1;32mimport\u001b[0m \u001b[0mwarnings\u001b[0m\u001b[1;33m\u001b[0m\u001b[1;33m\u001b[0m\u001b[0m\n\u001b[1;32m---> 23\u001b[1;33m \u001b[1;32mfrom\u001b[0m \u001b[0mkeras\u001b[0m \u001b[1;32mimport\u001b[0m \u001b[0mbackend\u001b[0m\u001b[1;33m\u001b[0m\u001b[1;33m\u001b[0m\u001b[0m\n\u001b[0m\u001b[0;32m     24\u001b[0m \u001b[1;32mfrom\u001b[0m \u001b[0mkeras\u001b[0m\u001b[1;33m.\u001b[0m\u001b[0mdtensor\u001b[0m \u001b[1;32mimport\u001b[0m \u001b[0mlayout_map\u001b[0m \u001b[1;32mas\u001b[0m \u001b[0mlayout_map_lib\u001b[0m\u001b[1;33m\u001b[0m\u001b[1;33m\u001b[0m\u001b[0m\n\u001b[0;32m     25\u001b[0m \u001b[1;32mfrom\u001b[0m \u001b[0mkeras\u001b[0m\u001b[1;33m.\u001b[0m\u001b[0mengine\u001b[0m \u001b[1;32mimport\u001b[0m \u001b[0mbase_layer\u001b[0m\u001b[1;33m\u001b[0m\u001b[1;33m\u001b[0m\u001b[0m\n",
      "\u001b[1;32m~\\ana3\\envs\\arioo5\\lib\\site-packages\\keras\\backend.py\u001b[0m in \u001b[0;36m<module>\u001b[1;34m\u001b[0m\n\u001b[0;32m     37\u001b[0m \u001b[1;32mfrom\u001b[0m \u001b[0mtensorflow\u001b[0m\u001b[1;33m.\u001b[0m\u001b[0mcore\u001b[0m\u001b[1;33m.\u001b[0m\u001b[0mprotobuf\u001b[0m \u001b[1;32mimport\u001b[0m \u001b[0mconfig_pb2\u001b[0m\u001b[1;33m\u001b[0m\u001b[1;33m\u001b[0m\u001b[0m\n\u001b[0;32m     38\u001b[0m \u001b[1;32mfrom\u001b[0m \u001b[0mtensorflow\u001b[0m\u001b[1;33m.\u001b[0m\u001b[0mpython\u001b[0m\u001b[1;33m.\u001b[0m\u001b[0meager\u001b[0m \u001b[1;32mimport\u001b[0m \u001b[0mcontext\u001b[0m\u001b[1;33m\u001b[0m\u001b[1;33m\u001b[0m\u001b[0m\n\u001b[1;32m---> 39\u001b[1;33m \u001b[1;32mfrom\u001b[0m \u001b[0mtensorflow\u001b[0m\u001b[1;33m.\u001b[0m\u001b[0mpython\u001b[0m\u001b[1;33m.\u001b[0m\u001b[0meager\u001b[0m\u001b[1;33m.\u001b[0m\u001b[0mcontext\u001b[0m \u001b[1;32mimport\u001b[0m \u001b[0mget_config\u001b[0m\u001b[1;33m\u001b[0m\u001b[1;33m\u001b[0m\u001b[0m\n\u001b[0m\u001b[0;32m     40\u001b[0m \u001b[1;32mfrom\u001b[0m \u001b[0mtensorflow\u001b[0m\u001b[1;33m.\u001b[0m\u001b[0mpython\u001b[0m\u001b[1;33m.\u001b[0m\u001b[0mframework\u001b[0m \u001b[1;32mimport\u001b[0m \u001b[0mconfig\u001b[0m\u001b[1;33m\u001b[0m\u001b[1;33m\u001b[0m\u001b[0m\n\u001b[0;32m     41\u001b[0m \u001b[1;32mfrom\u001b[0m \u001b[0mkeras\u001b[0m \u001b[1;32mimport\u001b[0m \u001b[0mbackend_config\u001b[0m\u001b[1;33m\u001b[0m\u001b[1;33m\u001b[0m\u001b[0m\n",
      "\u001b[1;31mImportError\u001b[0m: cannot import name 'get_config' from 'tensorflow.python.eager.context' (C:\\Users\\Platinum\\ana3\\envs\\arioo5\\lib\\site-packages\\tensorflow\\python\\eager\\context.py)"
     ]
    }
   ],
   "source": [
    "\n",
    "from tensorflow import keras\n",
    "from keras.utils.vis_utils import plot_model\n",
    "\n",
    "keras.utils.plot_model(model, to_file='model.png', show_layer_names=True)"
   ]
  },
  {
   "cell_type": "markdown",
   "metadata": {},
   "source": [
    "### Callbacks:"
   ]
  },
  {
   "cell_type": "code",
   "execution_count": 26,
   "metadata": {},
   "outputs": [],
   "source": [
    "from tensorflow.keras.callbacks import ModelCheckpoint\n",
    "from tensorflow.keras.callbacks import ReduceLROnPlateau\n",
    "from tensorflow.keras.callbacks import TensorBoard\n",
    "\n",
    "checkpoint = ModelCheckpoint(\"nextword-zare.h5\", monitor='loss', verbose=1,\n",
    "    save_best_only=True, mode='auto')\n",
    "\n",
    "reduce = ReduceLROnPlateau(monitor='loss', factor=0.2, patience=3, min_lr=0.0001, verbose = 1)\n",
    "\n",
    "logdir='logsnextword2'\n",
    "tensorboard_Visualization = TensorBoard(log_dir=logdir)"
   ]
  },
  {
   "cell_type": "markdown",
   "metadata": {},
   "source": [
    "### Compile The Model:"
   ]
  },
  {
   "cell_type": "code",
   "execution_count": 27,
   "metadata": {},
   "outputs": [],
   "source": [
    "model.compile(loss=\"categorical_crossentropy\", optimizer=Adam(learning_rate=0.001))"
   ]
  },
  {
   "cell_type": "markdown",
   "metadata": {},
   "source": [
    "### Fit The Model:"
   ]
  },
  {
   "cell_type": "code",
   "execution_count": 28,
   "metadata": {},
   "outputs": [
    {
     "name": "stdout",
     "output_type": "stream",
     "text": [
      "WARNING:tensorflow:From C:\\Users\\Platinum\\ana3\\envs\\arioo5\\lib\\site-packages\\tensorflow\\python\\ops\\math_grad.py:1250: add_dispatch_support.<locals>.wrapper (from tensorflow.python.ops.array_ops) is deprecated and will be removed in a future version.\n",
      "Instructions for updating:\n",
      "Use tf.where in 2.0, which has the same broadcast rule as np.where\n",
      "Epoch 1/150\n",
      "2176/2220 [============================>.] - ETA: 0s - loss: 7.5408\n",
      "Epoch 00001: loss improved from inf to 7.54099, saving model to nextword-zare.h5\n",
      "2220/2220 [==============================] - 5s 2ms/sample - loss: 7.5410\n",
      "Epoch 2/150\n",
      "2048/2220 [==========================>...] - ETA: 0s - loss: 7.5341\n",
      "Epoch 00002: loss improved from 7.54099 to 7.53300, saving model to nextword-zare.h5\n",
      "2220/2220 [==============================] - 1s 363us/sample - loss: 7.5330\n",
      "Epoch 3/150\n",
      "2048/2220 [==========================>...] - ETA: 0s - loss: 7.4587\n",
      "Epoch 00003: loss improved from 7.53300 to 7.45608, saving model to nextword-zare.h5\n",
      "2220/2220 [==============================] - 1s 404us/sample - loss: 7.4561\n",
      "Epoch 4/150\n",
      "2048/2220 [==========================>...] - ETA: 0s - loss: 7.2929\n",
      "Epoch 00004: loss improved from 7.45608 to 7.29967, saving model to nextword-zare.h5\n",
      "2220/2220 [==============================] - 1s 366us/sample - loss: 7.2997\n",
      "Epoch 5/150\n",
      "2048/2220 [==========================>...] - ETA: 0s - loss: 7.0265\n",
      "Epoch 00005: loss improved from 7.29967 to 7.03756, saving model to nextword-zare.h5\n",
      "2220/2220 [==============================] - 1s 388us/sample - loss: 7.0376\n",
      "Epoch 6/150\n",
      "2112/2220 [===========================>..] - ETA: 0s - loss: 6.8482\n",
      "Epoch 00006: loss improved from 7.03756 to 6.85536, saving model to nextword-zare.h5\n",
      "2220/2220 [==============================] - 1s 388us/sample - loss: 6.8554\n",
      "Epoch 7/150\n",
      "2048/2220 [==========================>...] - ETA: 0s - loss: 6.7201\n",
      "Epoch 00007: loss improved from 6.85536 to 6.72362, saving model to nextword-zare.h5\n",
      "2220/2220 [==============================] - 1s 339us/sample - loss: 6.7236\n",
      "Epoch 8/150\n",
      "1984/2220 [=========================>....] - ETA: 0s - loss: 6.6468\n",
      "Epoch 00008: loss improved from 6.72362 to 6.64347, saving model to nextword-zare.h5\n",
      "2220/2220 [==============================] - 1s 367us/sample - loss: 6.6435\n",
      "Epoch 9/150\n",
      "2112/2220 [===========================>..] - ETA: 0s - loss: 6.5735\n",
      "Epoch 00009: loss improved from 6.64347 to 6.56849, saving model to nextword-zare.h5\n",
      "2220/2220 [==============================] - 1s 367us/sample - loss: 6.5685\n",
      "Epoch 10/150\n",
      "2176/2220 [============================>.] - ETA: 0s - loss: 6.4961\n",
      "Epoch 00010: loss improved from 6.56849 to 6.49519, saving model to nextword-zare.h5\n",
      "2220/2220 [==============================] - 1s 403us/sample - loss: 6.4952\n",
      "Epoch 11/150\n",
      "1920/2220 [========================>.....] - ETA: 0s - loss: 6.4195\n",
      "Epoch 00011: loss improved from 6.49519 to 6.42981, saving model to nextword-zare.h5\n",
      "2220/2220 [==============================] - 1s 297us/sample - loss: 6.4298\n",
      "Epoch 12/150\n",
      "2112/2220 [===========================>..] - ETA: 0s - loss: 6.3494\n",
      "Epoch 00012: loss improved from 6.42981 to 6.36170, saving model to nextword-zare.h5\n",
      "2220/2220 [==============================] - 1s 268us/sample - loss: 6.3617\n",
      "Epoch 13/150\n",
      "1920/2220 [========================>.....] - ETA: 0s - loss: 6.2802\n",
      "Epoch 00013: loss improved from 6.36170 to 6.29741, saving model to nextword-zare.h5\n",
      "2220/2220 [==============================] - 1s 268us/sample - loss: 6.2974\n",
      "Epoch 14/150\n",
      "2176/2220 [============================>.] - ETA: 0s - loss: 6.2296\n",
      "Epoch 00014: loss improved from 6.29741 to 6.23226, saving model to nextword-zare.h5\n",
      "2220/2220 [==============================] - 1s 346us/sample - loss: 6.2323\n",
      "Epoch 15/150\n",
      "2112/2220 [===========================>..] - ETA: 0s - loss: 6.1815\n",
      "Epoch 00015: loss improved from 6.23226 to 6.17991, saving model to nextword-zare.h5\n",
      "2220/2220 [==============================] - 1s 360us/sample - loss: 6.1799\n",
      "Epoch 16/150\n",
      "2176/2220 [============================>.] - ETA: 0s - loss: 6.0990\n",
      "Epoch 00016: loss improved from 6.17991 to 6.10713, saving model to nextword-zare.h5\n",
      "2220/2220 [==============================] - 1s 353us/sample - loss: 6.1071\n",
      "Epoch 17/150\n",
      "2112/2220 [===========================>..] - ETA: 0s - loss: 6.0255\n",
      "Epoch 00017: loss improved from 6.10713 to 6.03775, saving model to nextword-zare.h5\n",
      "2220/2220 [==============================] - 1s 360us/sample - loss: 6.0378\n",
      "Epoch 18/150\n",
      "2112/2220 [===========================>..] - ETA: 0s - loss: 5.9611\n",
      "Epoch 00018: loss improved from 6.03775 to 5.97802, saving model to nextword-zare.h5\n",
      "2220/2220 [==============================] - 1s 353us/sample - loss: 5.9780\n",
      "Epoch 19/150\n",
      "2176/2220 [============================>.] - ETA: 0s - loss: 5.9408\n",
      "Epoch 00019: loss improved from 5.97802 to 5.94224, saving model to nextword-zare.h5\n",
      "2220/2220 [==============================] - 1s 356us/sample - loss: 5.9422\n",
      "Epoch 20/150\n",
      "2176/2220 [============================>.] - ETA: 0s - loss: 5.9038\n",
      "Epoch 00020: loss improved from 5.94224 to 5.90727, saving model to nextword-zare.h5\n",
      "2220/2220 [==============================] - 1s 414us/sample - loss: 5.9073\n",
      "Epoch 21/150\n",
      "2176/2220 [============================>.] - ETA: 0s - loss: 5.8234\n",
      "Epoch 00021: loss improved from 5.90727 to 5.82756, saving model to nextword-zare.h5\n",
      "2220/2220 [==============================] - 1s 374us/sample - loss: 5.8276\n",
      "Epoch 22/150\n",
      "2112/2220 [===========================>..] - ETA: 0s - loss: 5.7731\n",
      "Epoch 00022: loss improved from 5.82756 to 5.78448, saving model to nextword-zare.h5\n",
      "2220/2220 [==============================] - 1s 353us/sample - loss: 5.7845\n",
      "Epoch 23/150\n",
      "2048/2220 [==========================>...] - ETA: 0s - loss: 5.7723\n",
      "Epoch 00023: loss improved from 5.78448 to 5.77944, saving model to nextword-zare.h5\n",
      "2220/2220 [==============================] - 1s 360us/sample - loss: 5.7794\n",
      "Epoch 24/150\n",
      "2176/2220 [============================>.] - ETA: 0s - loss: 5.7249\n",
      "Epoch 00024: loss improved from 5.77944 to 5.72505, saving model to nextword-zare.h5\n",
      "2220/2220 [==============================] - 1s 402us/sample - loss: 5.7251\n",
      "Epoch 25/150\n",
      "2048/2220 [==========================>...] - ETA: 0s - loss: 5.6633\n",
      "Epoch 00025: loss improved from 5.72505 to 5.67156, saving model to nextword-zare.h5\n",
      "2220/2220 [==============================] - 1s 390us/sample - loss: 5.6716\n",
      "Epoch 26/150\n",
      "2176/2220 [============================>.] - ETA: 0s - loss: 5.6363- ETA: 0s - loss: 5.\n",
      "Epoch 00026: loss improved from 5.67156 to 5.63955, saving model to nextword-zare.h5\n",
      "2220/2220 [==============================] - 1s 358us/sample - loss: 5.6395\n",
      "Epoch 27/150\n",
      "2048/2220 [==========================>...] - ETA: 0s - loss: 5.5701\n",
      "Epoch 00027: loss improved from 5.63955 to 5.58817, saving model to nextword-zare.h5\n",
      "2220/2220 [==============================] - 1s 375us/sample - loss: 5.5882\n",
      "Epoch 28/150\n",
      "2176/2220 [============================>.] - ETA: 0s - loss: 5.5824\n",
      "Epoch 00028: loss improved from 5.58817 to 5.58642, saving model to nextword-zare.h5\n",
      "2220/2220 [==============================] - 1s 360us/sample - loss: 5.5864\n",
      "Epoch 29/150\n",
      "2176/2220 [============================>.] - ETA: 0s - loss: 5.5687\n",
      "Epoch 00029: loss improved from 5.58642 to 5.57207, saving model to nextword-zare.h5\n",
      "2220/2220 [==============================] - 1s 374us/sample - loss: 5.5721\n",
      "Epoch 30/150\n",
      "2048/2220 [==========================>...] - ETA: 0s - loss: 5.5245\n",
      "Epoch 00030: loss improved from 5.57207 to 5.54051, saving model to nextword-zare.h5\n",
      "2220/2220 [==============================] - 1s 389us/sample - loss: 5.5405\n",
      "Epoch 31/150\n",
      "2048/2220 [==========================>...] - ETA: 0s - loss: 5.4624\n",
      "Epoch 00031: loss improved from 5.54051 to 5.47707, saving model to nextword-zare.h5\n",
      "2220/2220 [==============================] - 1s 332us/sample - loss: 5.4771\n",
      "Epoch 32/150\n",
      "2048/2220 [==========================>...] - ETA: 0s - loss: 5.4441\n",
      "Epoch 00032: loss improved from 5.47707 to 5.46136, saving model to nextword-zare.h5\n",
      "2220/2220 [==============================] - 1s 283us/sample - loss: 5.4614\n",
      "Epoch 33/150\n",
      "1920/2220 [========================>.....] - ETA: 0s - loss: 5.3975\n",
      "Epoch 00033: loss improved from 5.46136 to 5.42356, saving model to nextword-zare.h5\n"
     ]
    },
    {
     "name": "stdout",
     "output_type": "stream",
     "text": [
      "2220/2220 [==============================] - 1s 261us/sample - loss: 5.4236\n",
      "Epoch 34/150\n",
      "2048/2220 [==========================>...] - ETA: 0s - loss: 5.4131\n",
      "Epoch 00034: loss improved from 5.42356 to 5.41915, saving model to nextword-zare.h5\n",
      "2220/2220 [==============================] - 1s 346us/sample - loss: 5.4192\n",
      "Epoch 35/150\n",
      "2176/2220 [============================>.] - ETA: 0s - loss: 5.3868\n",
      "Epoch 00035: loss improved from 5.41915 to 5.39171, saving model to nextword-zare.h5\n",
      "2220/2220 [==============================] - 1s 374us/sample - loss: 5.3917\n",
      "Epoch 36/150\n",
      "2048/2220 [==========================>...] - ETA: 0s - loss: 5.3237\n",
      "Epoch 00036: loss improved from 5.39171 to 5.34892, saving model to nextword-zare.h5\n",
      "2220/2220 [==============================] - 1s 353us/sample - loss: 5.3489\n",
      "Epoch 37/150\n",
      "1984/2220 [=========================>....] - ETA: 0s - loss: 5.2678\n",
      "Epoch 00037: loss improved from 5.34892 to 5.29960, saving model to nextword-zare.h5\n",
      "2220/2220 [==============================] - 1s 403us/sample - loss: 5.2996\n",
      "Epoch 38/150\n",
      "1984/2220 [=========================>....] - ETA: 0s - loss: 5.2625\n",
      "Epoch 00038: loss improved from 5.29960 to 5.29228, saving model to nextword-zare.h5\n",
      "2220/2220 [==============================] - 1s 402us/sample - loss: 5.2923\n",
      "Epoch 39/150\n",
      "2048/2220 [==========================>...] - ETA: 0s - loss: 5.2025\n",
      "Epoch 00039: loss improved from 5.29228 to 5.22899, saving model to nextword-zare.h5\n",
      "2220/2220 [==============================] - 1s 381us/sample - loss: 5.2290\n",
      "Epoch 40/150\n",
      "2176/2220 [============================>.] - ETA: 0s - loss: 5.1598\n",
      "Epoch 00040: loss improved from 5.22899 to 5.16769, saving model to nextword-zare.h5\n",
      "2220/2220 [==============================] - 1s 367us/sample - loss: 5.1677\n",
      "Epoch 41/150\n",
      "1984/2220 [=========================>....] - ETA: 0s - loss: 5.0259\n",
      "Epoch 00041: loss improved from 5.16769 to 5.05678, saving model to nextword-zare.h5\n",
      "2220/2220 [==============================] - 1s 395us/sample - loss: 5.0568\n",
      "Epoch 42/150\n",
      "2048/2220 [==========================>...] - ETA: 0s - loss: 4.8994\n",
      "Epoch 00042: loss improved from 5.05678 to 4.91307, saving model to nextword-zare.h5\n",
      "2220/2220 [==============================] - 1s 389us/sample - loss: 4.9131\n",
      "Epoch 43/150\n",
      "2112/2220 [===========================>..] - ETA: 0s - loss: 4.7642\n",
      "Epoch 00043: loss improved from 4.91307 to 4.77030, saving model to nextword-zare.h5\n",
      "2220/2220 [==============================] - 1s 381us/sample - loss: 4.7703\n",
      "Epoch 44/150\n",
      "2048/2220 [==========================>...] - ETA: 0s - loss: 4.6368\n",
      "Epoch 00044: loss improved from 4.77030 to 4.65592, saving model to nextword-zare.h5\n",
      "2220/2220 [==============================] - 1s 382us/sample - loss: 4.6559\n",
      "Epoch 45/150\n",
      "2176/2220 [============================>.] - ETA: 0s - loss: 4.6024\n",
      "Epoch 00045: loss improved from 4.65592 to 4.61049, saving model to nextword-zare.h5\n",
      "2220/2220 [==============================] - 1s 381us/sample - loss: 4.6105\n",
      "Epoch 46/150\n",
      "2176/2220 [============================>.] - ETA: 0s - loss: 4.5202\n",
      "Epoch 00046: loss improved from 4.61049 to 4.53006, saving model to nextword-zare.h5\n",
      "2220/2220 [==============================] - 1s 403us/sample - loss: 4.5301\n",
      "Epoch 47/150\n",
      "2048/2220 [==========================>...] - ETA: 0s - loss: 4.3745\n",
      "Epoch 00047: loss improved from 4.53006 to 4.41155, saving model to nextword-zare.h5\n",
      "2220/2220 [==============================] - 1s 360us/sample - loss: 4.4116\n",
      "Epoch 48/150\n",
      "2112/2220 [===========================>..] - ETA: 0s - loss: 4.3047\n",
      "Epoch 00048: loss improved from 4.41155 to 4.31574, saving model to nextword-zare.h5\n",
      "2220/2220 [==============================] - 1s 374us/sample - loss: 4.3157\n",
      "Epoch 49/150\n",
      "2176/2220 [============================>.] - ETA: 0s - loss: 4.2302\n",
      "Epoch 00049: loss improved from 4.31574 to 4.23945, saving model to nextword-zare.h5\n",
      "2220/2220 [==============================] - 1s 382us/sample - loss: 4.2394\n",
      "Epoch 50/150\n",
      "2112/2220 [===========================>..] - ETA: 0s - loss: 4.1530\n",
      "Epoch 00050: loss improved from 4.23945 to 4.17308, saving model to nextword-zare.h5\n",
      "2220/2220 [==============================] - 1s 395us/sample - loss: 4.1731\n",
      "Epoch 51/150\n",
      "2176/2220 [============================>.] - ETA: 0s - loss: 4.1629\n",
      "Epoch 00051: loss improved from 4.17308 to 4.16687, saving model to nextword-zare.h5\n",
      "2220/2220 [==============================] - 1s 290us/sample - loss: 4.1669\n",
      "Epoch 52/150\n",
      "2112/2220 [===========================>..] - ETA: 0s - loss: 4.0507\n",
      "Epoch 00052: loss improved from 4.16687 to 4.06946, saving model to nextword-zare.h5\n",
      "2220/2220 [==============================] - 1s 268us/sample - loss: 4.0695\n",
      "Epoch 53/150\n",
      "1920/2220 [========================>.....] - ETA: 0s - loss: 3.8980\n",
      "Epoch 00053: loss improved from 4.06946 to 3.97195, saving model to nextword-zare.h5\n",
      "2220/2220 [==============================] - 1s 261us/sample - loss: 3.9720\n",
      "Epoch 54/150\n",
      "1984/2220 [=========================>....] - ETA: 0s - loss: 3.8984\n",
      "Epoch 00054: loss improved from 3.97195 to 3.94896, saving model to nextword-zare.h5\n",
      "2220/2220 [==============================] - 1s 381us/sample - loss: 3.9490\n",
      "Epoch 55/150\n",
      "2048/2220 [==========================>...] - ETA: 0s - loss: 3.8741\n",
      "Epoch 00055: loss improved from 3.94896 to 3.89521, saving model to nextword-zare.h5\n",
      "2220/2220 [==============================] - 1s 374us/sample - loss: 3.8952\n",
      "Epoch 56/150\n",
      "2176/2220 [============================>.] - ETA: 0s - loss: 3.8136\n",
      "Epoch 00056: loss improved from 3.89521 to 3.82157, saving model to nextword-zare.h5\n",
      "2220/2220 [==============================] - 1s 396us/sample - loss: 3.8216\n",
      "Epoch 57/150\n",
      "1984/2220 [=========================>....] - ETA: 0s - loss: 3.7652\n",
      "Epoch 00057: loss improved from 3.82157 to 3.80883, saving model to nextword-zare.h5\n",
      "2220/2220 [==============================] - 1s 410us/sample - loss: 3.8088\n",
      "Epoch 58/150\n",
      "2176/2220 [============================>.] - ETA: 0s - loss: 3.8016\n",
      "Epoch 00058: loss did not improve from 3.80883\n",
      "2220/2220 [==============================] - 1s 325us/sample - loss: 3.8131\n",
      "Epoch 59/150\n",
      "2112/2220 [===========================>..] - ETA: 0s - loss: 3.7236\n",
      "Epoch 00059: loss improved from 3.80883 to 3.74052, saving model to nextword-zare.h5\n",
      "2220/2220 [==============================] - 1s 369us/sample - loss: 3.7405\n",
      "Epoch 60/150\n",
      "2176/2220 [============================>.] - ETA: 0s - loss: 3.6404\n",
      "Epoch 00060: loss improved from 3.74052 to 3.64894, saving model to nextword-zare.h5\n",
      "2220/2220 [==============================] - 1s 400us/sample - loss: 3.6489\n",
      "Epoch 61/150\n",
      "2176/2220 [============================>.] - ETA: 0s - loss: 3.5920\n",
      "Epoch 00061: loss improved from 3.64894 to 3.60396, saving model to nextword-zare.h5\n",
      "2220/2220 [==============================] - 1s 367us/sample - loss: 3.6040\n",
      "Epoch 62/150\n",
      "1984/2220 [=========================>....] - ETA: 0s - loss: 3.5368\n",
      "Epoch 00062: loss improved from 3.60396 to 3.57809, saving model to nextword-zare.h5\n",
      "2220/2220 [==============================] - 1s 396us/sample - loss: 3.5781\n",
      "Epoch 63/150\n",
      "2048/2220 [==========================>...] - ETA: 0s - loss: 3.5407\n",
      "Epoch 00063: loss improved from 3.57809 to 3.57100, saving model to nextword-zare.h5\n",
      "2220/2220 [==============================] - 1s 371us/sample - loss: 3.5710\n",
      "Epoch 64/150\n",
      "2176/2220 [============================>.] - ETA: 0s - loss: 3.5020\n",
      "Epoch 00064: loss improved from 3.57100 to 3.51226, saving model to nextword-zare.h5\n",
      "2220/2220 [==============================] - 1s 392us/sample - loss: 3.5123\n",
      "Epoch 65/150\n",
      "2048/2220 [==========================>...] - ETA: 0s - loss: 3.4410\n",
      "Epoch 00065: loss improved from 3.51226 to 3.46932, saving model to nextword-zare.h5\n",
      "2220/2220 [==============================] - 1s 375us/sample - loss: 3.4693\n",
      "Epoch 66/150\n",
      "2048/2220 [==========================>...] - ETA: 0s - loss: 3.4159\n",
      "Epoch 00066: loss improved from 3.46932 to 3.45740, saving model to nextword-zare.h5\n",
      "2220/2220 [==============================] - 1s 367us/sample - loss: 3.4574\n",
      "Epoch 67/150\n",
      "2112/2220 [===========================>..] - ETA: 0s - loss: 3.4102\n",
      "Epoch 00067: loss improved from 3.45740 to 3.43050, saving model to nextword-zare.h5\n",
      "2220/2220 [==============================] - 1s 346us/sample - loss: 3.4305\n"
     ]
    },
    {
     "name": "stdout",
     "output_type": "stream",
     "text": [
      "Epoch 68/150\n",
      "2048/2220 [==========================>...] - ETA: 0s - loss: 3.3545\n",
      "Epoch 00068: loss improved from 3.43050 to 3.38864, saving model to nextword-zare.h5\n",
      "2220/2220 [==============================] - 1s 396us/sample - loss: 3.3886\n",
      "Epoch 69/150\n",
      "2048/2220 [==========================>...] - ETA: 0s - loss: 3.2987\n",
      "Epoch 00069: loss improved from 3.38864 to 3.33205, saving model to nextword-zare.h5\n",
      "2220/2220 [==============================] - 1s 375us/sample - loss: 3.3321\n",
      "Epoch 70/150\n",
      "2048/2220 [==========================>...] - ETA: 0s - loss: 3.2771\n",
      "Epoch 00070: loss improved from 3.33205 to 3.31985, saving model to nextword-zare.h5\n",
      "2220/2220 [==============================] - 1s 381us/sample - loss: 3.3199\n",
      "Epoch 71/150\n",
      "2176/2220 [============================>.] - ETA: 0s - loss: 3.2801\n",
      "Epoch 00071: loss improved from 3.31985 to 3.28571, saving model to nextword-zare.h5\n",
      "2220/2220 [==============================] - 1s 311us/sample - loss: 3.2857\n",
      "Epoch 72/150\n",
      "2176/2220 [============================>.] - ETA: 0s - loss: 3.2562\n",
      "Epoch 00072: loss improved from 3.28571 to 3.26632, saving model to nextword-zare.h5\n",
      "2220/2220 [==============================] - 1s 290us/sample - loss: 3.2663\n",
      "Epoch 73/150\n",
      "2176/2220 [============================>.] - ETA: 0s - loss: 3.3044\n",
      "Epoch 00073: loss did not improve from 3.26632\n",
      "2220/2220 [==============================] - 1s 247us/sample - loss: 3.3028\n",
      "Epoch 74/150\n",
      "2112/2220 [===========================>..] - ETA: 0s - loss: 3.3016\n",
      "Epoch 00074: loss did not improve from 3.26632\n",
      "2220/2220 [==============================] - 1s 290us/sample - loss: 3.3139\n",
      "Epoch 75/150\n",
      "2112/2220 [===========================>..] - ETA: 0s - loss: 3.2218\n",
      "Epoch 00075: loss improved from 3.26632 to 3.23522, saving model to nextword-zare.h5\n",
      "2220/2220 [==============================] - 1s 367us/sample - loss: 3.2352\n",
      "Epoch 76/150\n",
      "2112/2220 [===========================>..] - ETA: 0s - loss: 3.1242\n",
      "Epoch 00076: loss improved from 3.23522 to 3.13263, saving model to nextword-zare.h5\n",
      "2220/2220 [==============================] - 1s 386us/sample - loss: 3.1326\n",
      "Epoch 77/150\n",
      "2048/2220 [==========================>...] - ETA: 0s - loss: 3.0647\n",
      "Epoch 00077: loss improved from 3.13263 to 3.10061, saving model to nextword-zare.h5\n",
      "2220/2220 [==============================] - 1s 389us/sample - loss: 3.1006\n",
      "Epoch 78/150\n",
      "2112/2220 [===========================>..] - ETA: 0s - loss: 3.0772\n",
      "Epoch 00078: loss improved from 3.10061 to 3.09933, saving model to nextword-zare.h5\n",
      "2220/2220 [==============================] - 1s 360us/sample - loss: 3.0993\n",
      "Epoch 79/150\n",
      "2112/2220 [===========================>..] - ETA: 0s - loss: 3.1140\n",
      "Epoch 00079: loss did not improve from 3.09933\n",
      "2220/2220 [==============================] - 1s 283us/sample - loss: 3.1308\n",
      "Epoch 80/150\n",
      "2048/2220 [==========================>...] - ETA: 0s - loss: 3.0573\n",
      "Epoch 00080: loss improved from 3.09933 to 3.08902, saving model to nextword-zare.h5\n",
      "2220/2220 [==============================] - 1s 360us/sample - loss: 3.0890\n",
      "Epoch 81/150\n",
      "2176/2220 [============================>.] - ETA: 0s - loss: 3.0426\n",
      "Epoch 00081: loss improved from 3.08902 to 3.04862, saving model to nextword-zare.h5\n",
      "2220/2220 [==============================] - 1s 374us/sample - loss: 3.0486\n",
      "Epoch 82/150\n",
      "2176/2220 [============================>.] - ETA: 0s - loss: 3.0185\n",
      "Epoch 00082: loss improved from 3.04862 to 3.02501, saving model to nextword-zare.h5\n",
      "2220/2220 [==============================] - 1s 339us/sample - loss: 3.0250\n",
      "Epoch 83/150\n",
      "2112/2220 [===========================>..] - ETA: 0s - loss: 3.0041\n",
      "Epoch 00083: loss did not improve from 3.02501\n",
      "2220/2220 [==============================] - 1s 304us/sample - loss: 3.0297\n",
      "Epoch 84/150\n",
      "2112/2220 [===========================>..] - ETA: 0s - loss: 3.0574\n",
      "Epoch 00084: loss did not improve from 3.02501\n",
      "2220/2220 [==============================] - 1s 276us/sample - loss: 3.0750\n",
      "Epoch 85/150\n",
      "2112/2220 [===========================>..] - ETA: 0s - loss: 2.9992\n",
      "Epoch 00085: loss improved from 3.02501 to 3.01662, saving model to nextword-zare.h5\n",
      "2220/2220 [==============================] - 1s 360us/sample - loss: 3.0166\n",
      "Epoch 86/150\n",
      "2112/2220 [===========================>..] - ETA: 0s - loss: 2.9485\n",
      "Epoch 00086: loss improved from 3.01662 to 2.96174, saving model to nextword-zare.h5\n",
      "2220/2220 [==============================] - 1s 395us/sample - loss: 2.9617\n",
      "Epoch 87/150\n",
      "2176/2220 [============================>.] - ETA: 0s - loss: 2.9080\n",
      "Epoch 00087: loss improved from 2.96174 to 2.91540, saving model to nextword-zare.h5\n",
      "2220/2220 [==============================] - 1s 389us/sample - loss: 2.9154\n",
      "Epoch 88/150\n",
      "2112/2220 [===========================>..] - ETA: 0s - loss: 2.8634\n",
      "Epoch 00088: loss improved from 2.91540 to 2.88285, saving model to nextword-zare.h5\n",
      "2220/2220 [==============================] - 1s 405us/sample - loss: 2.8828\n",
      "Epoch 89/150\n",
      "2176/2220 [============================>.] - ETA: 0s - loss: 2.8329\n",
      "Epoch 00089: loss improved from 2.88285 to 2.84305, saving model to nextword-zare.h5\n",
      "2220/2220 [==============================] - 1s 372us/sample - loss: 2.8430\n",
      "Epoch 90/150\n",
      "1984/2220 [=========================>....] - ETA: 0s - loss: 2.7734- ETA: 0s - loss: 2\n",
      "Epoch 00090: loss improved from 2.84305 to 2.80853, saving model to nextword-zare.h5\n",
      "2220/2220 [==============================] - 1s 367us/sample - loss: 2.8085\n",
      "Epoch 91/150\n",
      "2112/2220 [===========================>..] - ETA: 0s - loss: 2.7740\n",
      "Epoch 00091: loss improved from 2.80853 to 2.80087, saving model to nextword-zare.h5\n",
      "2220/2220 [==============================] - 1s 396us/sample - loss: 2.8009\n",
      "Epoch 92/150\n",
      "2112/2220 [===========================>..] - ETA: 0s - loss: 2.8080\n",
      "Epoch 00092: loss did not improve from 2.80087\n",
      "2220/2220 [==============================] - 1s 240us/sample - loss: 2.8280\n",
      "Epoch 93/150\n",
      "2112/2220 [===========================>..] - ETA: 0s - loss: 2.8058\n",
      "Epoch 00093: loss did not improve from 2.80087\n",
      "2220/2220 [==============================] - 0s 212us/sample - loss: 2.8236\n",
      "Epoch 94/150\n",
      "2048/2220 [==========================>...] - ETA: 0s - loss: 2.7167\n",
      "Epoch 00094: loss improved from 2.80087 to 2.75622, saving model to nextword-zare.h5\n",
      "2220/2220 [==============================] - 1s 276us/sample - loss: 2.7562\n",
      "Epoch 95/150\n",
      "2176/2220 [============================>.] - ETA: 0s - loss: 2.6971\n",
      "Epoch 00095: loss improved from 2.75622 to 2.70400, saving model to nextword-zare.h5\n",
      "2220/2220 [==============================] - 1s 349us/sample - loss: 2.7040\n",
      "Epoch 96/150\n",
      "2112/2220 [===========================>..] - ETA: 0s - loss: 2.6429\n",
      "Epoch 00096: loss improved from 2.70400 to 2.66185, saving model to nextword-zare.h5\n",
      "2220/2220 [==============================] - 1s 379us/sample - loss: 2.6619\n",
      "Epoch 97/150\n",
      "2112/2220 [===========================>..] - ETA: 0s - loss: 2.6596\n",
      "Epoch 00097: loss did not improve from 2.66185\n",
      "2220/2220 [==============================] - 1s 332us/sample - loss: 2.6761\n",
      "Epoch 98/150\n",
      "2112/2220 [===========================>..] - ETA: 0s - loss: 2.5368\n",
      "Epoch 00098: loss improved from 2.66185 to 2.56181, saving model to nextword-zare.h5\n",
      "2220/2220 [==============================] - 1s 367us/sample - loss: 2.5618\n",
      "Epoch 99/150\n",
      "2176/2220 [============================>.] - ETA: 0s - loss: 2.4573\n",
      "Epoch 00099: loss improved from 2.56181 to 2.46444, saving model to nextword-zare.h5\n",
      "2220/2220 [==============================] - 1s 360us/sample - loss: 2.4644\n",
      "Epoch 100/150\n",
      "2112/2220 [===========================>..] - ETA: 0s - loss: 2.3845\n",
      "Epoch 00100: loss improved from 2.46444 to 2.40115, saving model to nextword-zare.h5\n",
      "2220/2220 [==============================] - 1s 388us/sample - loss: 2.4012\n",
      "Epoch 101/150\n",
      "2048/2220 [==========================>...] - ETA: 0s - loss: 2.3382\n",
      "Epoch 00101: loss improved from 2.40115 to 2.36640, saving model to nextword-zare.h5\n",
      "2220/2220 [==============================] - 1s 367us/sample - loss: 2.3664\n",
      "Epoch 102/150\n",
      "2176/2220 [============================>.] - ETA: 0s - loss: 2.3135\n",
      "Epoch 00102: loss improved from 2.36640 to 2.31891, saving model to nextword-zare.h5\n",
      "2220/2220 [==============================] - 1s 378us/sample - loss: 2.3189\n",
      "Epoch 103/150\n"
     ]
    },
    {
     "name": "stdout",
     "output_type": "stream",
     "text": [
      "2176/2220 [============================>.] - ETA: 0s - loss: 2.2545\n",
      "Epoch 00103: loss improved from 2.31891 to 2.26465, saving model to nextword-zare.h5\n",
      "2220/2220 [==============================] - 1s 378us/sample - loss: 2.2646\n",
      "Epoch 104/150\n",
      "2048/2220 [==========================>...] - ETA: 0s - loss: 2.1803\n",
      "Epoch 00104: loss improved from 2.26465 to 2.21035, saving model to nextword-zare.h5\n",
      "2220/2220 [==============================] - 1s 395us/sample - loss: 2.2103\n",
      "Epoch 105/150\n",
      "2176/2220 [============================>.] - ETA: 0s - loss: 2.1812\n",
      "Epoch 00105: loss improved from 2.21035 to 2.19355, saving model to nextword-zare.h5\n",
      "2220/2220 [==============================] - 1s 417us/sample - loss: 2.1936\n",
      "Epoch 106/150\n",
      "2176/2220 [============================>.] - ETA: 0s - loss: 2.1463\n",
      "Epoch 00106: loss improved from 2.19355 to 2.15361, saving model to nextword-zare.h5\n",
      "2220/2220 [==============================] - 1s 360us/sample - loss: 2.1536\n",
      "Epoch 107/150\n",
      "2112/2220 [===========================>..] - ETA: 0s - loss: 2.0723\n",
      "Epoch 00107: loss improved from 2.15361 to 2.09294, saving model to nextword-zare.h5\n",
      "2220/2220 [==============================] - 1s 396us/sample - loss: 2.0929\n",
      "Epoch 108/150\n",
      "2048/2220 [==========================>...] - ETA: 0s - loss: 2.0344\n",
      "Epoch 00108: loss improved from 2.09294 to 2.07204, saving model to nextword-zare.h5\n",
      "2220/2220 [==============================] - 1s 395us/sample - loss: 2.0720\n",
      "Epoch 109/150\n",
      "2048/2220 [==========================>...] - ETA: 0s - loss: 1.9921\n",
      "Epoch 00109: loss improved from 2.07204 to 2.02086, saving model to nextword-zare.h5\n",
      "2220/2220 [==============================] - 1s 368us/sample - loss: 2.0209\n",
      "Epoch 110/150\n",
      "2176/2220 [============================>.] - ETA: 0s - loss: 2.0072\n",
      "Epoch 00110: loss improved from 2.02086 to 2.01275, saving model to nextword-zare.h5\n",
      "2220/2220 [==============================] - 1s 360us/sample - loss: 2.0128\n",
      "Epoch 111/150\n",
      "2048/2220 [==========================>...] - ETA: 0s - loss: 1.9522\n",
      "Epoch 00111: loss improved from 2.01275 to 1.99065, saving model to nextword-zare.h5\n",
      "2220/2220 [==============================] - 1s 388us/sample - loss: 1.9906\n",
      "Epoch 112/150\n",
      "2176/2220 [============================>.] - ETA: 0s - loss: 1.8800\n",
      "Epoch 00112: loss improved from 1.99065 to 1.88313, saving model to nextword-zare.h5\n",
      "2220/2220 [==============================] - 1s 304us/sample - loss: 1.8831\n",
      "Epoch 113/150\n",
      "2112/2220 [===========================>..] - ETA: 0s - loss: 1.7966\n",
      "Epoch 00113: loss improved from 1.88313 to 1.82051, saving model to nextword-zare.h5\n",
      "2220/2220 [==============================] - 1s 255us/sample - loss: 1.8205\n",
      "Epoch 114/150\n",
      "1984/2220 [=========================>....] - ETA: 0s - loss: 1.7103\n",
      "Epoch 00114: loss improved from 1.82051 to 1.73875, saving model to nextword-zare.h5\n",
      "2220/2220 [==============================] - 1s 324us/sample - loss: 1.7388\n",
      "Epoch 115/150\n",
      "2176/2220 [============================>.] - ETA: 0s - loss: 1.7308\n",
      "Epoch 00115: loss did not improve from 1.73875\n",
      "2220/2220 [==============================] - 1s 268us/sample - loss: 1.7393\n",
      "Epoch 116/150\n",
      "2176/2220 [============================>.] - ETA: 0s - loss: 1.7108\n",
      "Epoch 00116: loss improved from 1.73875 to 1.71921, saving model to nextword-zare.h5\n",
      "2220/2220 [==============================] - 1s 332us/sample - loss: 1.7192\n",
      "Epoch 117/150\n",
      "2112/2220 [===========================>..] - ETA: 0s - loss: 1.6744\n",
      "Epoch 00117: loss improved from 1.71921 to 1.68353, saving model to nextword-zare.h5\n",
      "2220/2220 [==============================] - 1s 389us/sample - loss: 1.6835\n",
      "Epoch 118/150\n",
      "2176/2220 [============================>.] - ETA: 0s - loss: 1.6610\n",
      "Epoch 00118: loss improved from 1.68353 to 1.66916, saving model to nextword-zare.h5\n",
      "2220/2220 [==============================] - 1s 367us/sample - loss: 1.6692\n",
      "Epoch 119/150\n",
      "2048/2220 [==========================>...] - ETA: 0s - loss: 1.6213\n",
      "Epoch 00119: loss improved from 1.66916 to 1.65222, saving model to nextword-zare.h5\n",
      "2220/2220 [==============================] - 1s 396us/sample - loss: 1.6522\n",
      "Epoch 120/150\n",
      "2112/2220 [===========================>..] - ETA: 0s - loss: 1.6501\n",
      "Epoch 00120: loss did not improve from 1.65222\n",
      "2220/2220 [==============================] - 1s 325us/sample - loss: 1.6604\n",
      "Epoch 121/150\n",
      "2112/2220 [===========================>..] - ETA: 0s - loss: 1.5766\n",
      "Epoch 00121: loss improved from 1.65222 to 1.59706, saving model to nextword-zare.h5\n",
      "2220/2220 [==============================] - 1s 389us/sample - loss: 1.5971\n",
      "Epoch 122/150\n",
      "2112/2220 [===========================>..] - ETA: 0s - loss: 1.5549\n",
      "Epoch 00122: loss improved from 1.59706 to 1.56790, saving model to nextword-zare.h5\n",
      "2220/2220 [==============================] - 1s 388us/sample - loss: 1.5679\n",
      "Epoch 123/150\n",
      "2176/2220 [============================>.] - ETA: 0s - loss: 1.5534\n",
      "Epoch 00123: loss improved from 1.56790 to 1.56039, saving model to nextword-zare.h5\n",
      "2220/2220 [==============================] - 1s 388us/sample - loss: 1.5604\n",
      "Epoch 124/150\n",
      "2176/2220 [============================>.] - ETA: 0s - loss: 1.5548\n",
      "Epoch 00124: loss improved from 1.56039 to 1.55933, saving model to nextword-zare.h5\n",
      "2220/2220 [==============================] - 1s 360us/sample - loss: 1.5593\n",
      "Epoch 125/150\n",
      "2112/2220 [===========================>..] - ETA: 0s - loss: 1.4935\n",
      "Epoch 00125: loss improved from 1.55933 to 1.51433, saving model to nextword-zare.h5\n",
      "2220/2220 [==============================] - 1s 374us/sample - loss: 1.5143\n",
      "Epoch 126/150\n",
      "1984/2220 [=========================>....] - ETA: 0s - loss: 1.4502\n",
      "Epoch 00126: loss improved from 1.51433 to 1.49189, saving model to nextword-zare.h5\n",
      "2220/2220 [==============================] - 1s 382us/sample - loss: 1.4919\n",
      "Epoch 127/150\n",
      "2112/2220 [===========================>..] - ETA: 0s - loss: 1.4898\n",
      "Epoch 00127: loss did not improve from 1.49189\n",
      "2220/2220 [==============================] - 1s 303us/sample - loss: 1.5054\n",
      "Epoch 128/150\n",
      "1984/2220 [=========================>....] - ETA: 0s - loss: 1.4209\n",
      "Epoch 00128: loss improved from 1.49189 to 1.47507, saving model to nextword-zare.h5\n",
      "2220/2220 [==============================] - 1s 375us/sample - loss: 1.4751\n",
      "Epoch 129/150\n",
      "2112/2220 [===========================>..] - ETA: 0s - loss: 1.4183\n",
      "Epoch 00129: loss improved from 1.47507 to 1.43317, saving model to nextword-zare.h5\n",
      "2220/2220 [==============================] - 1s 396us/sample - loss: 1.4332\n",
      "Epoch 130/150\n",
      "2048/2220 [==========================>...] - ETA: 0s - loss: 1.3387\n",
      "Epoch 00130: loss improved from 1.43317 to 1.37163, saving model to nextword-zare.h5\n",
      "2220/2220 [==============================] - 1s 339us/sample - loss: 1.3716\n",
      "Epoch 131/150\n",
      "2112/2220 [===========================>..] - ETA: 0s - loss: 1.3106\n",
      "Epoch 00131: loss improved from 1.37163 to 1.32539, saving model to nextword-zare.h5\n",
      "2220/2220 [==============================] - 1s 367us/sample - loss: 1.3254\n",
      "Epoch 132/150\n",
      "2112/2220 [===========================>..] - ETA: 0s - loss: 1.2962\n",
      "Epoch 00132: loss improved from 1.32539 to 1.31113, saving model to nextword-zare.h5\n",
      "2220/2220 [==============================] - 1s 339us/sample - loss: 1.3111\n",
      "Epoch 133/150\n",
      "1984/2220 [=========================>....] - ETA: 0s - loss: 1.2919\n",
      "Epoch 00133: loss did not improve from 1.31113\n",
      "2220/2220 [==============================] - 1s 226us/sample - loss: 1.3252\n",
      "Epoch 134/150\n",
      "1984/2220 [=========================>....] - ETA: 0s - loss: 1.2543\n",
      "Epoch 00134: loss improved from 1.31113 to 1.29622, saving model to nextword-zare.h5\n",
      "2220/2220 [==============================] - 1s 247us/sample - loss: 1.2962\n",
      "Epoch 135/150\n",
      "2048/2220 [==========================>...] - ETA: 0s - loss: 1.2635\n",
      "Epoch 00135: loss improved from 1.29622 to 1.28713, saving model to nextword-zare.h5\n",
      "2220/2220 [==============================] - 1s 297us/sample - loss: 1.2871\n",
      "Epoch 136/150\n",
      "2176/2220 [============================>.] - ETA: 0s - loss: 1.2194\n",
      "Epoch 00136: loss improved from 1.28713 to 1.22490, saving model to nextword-zare.h5\n",
      "2220/2220 [==============================] - 1s 367us/sample - loss: 1.2249\n",
      "Epoch 137/150\n",
      "2112/2220 [===========================>..] - ETA: 0s - loss: 1.2130\n",
      "Epoch 00137: loss did not improve from 1.22490\n",
      "2220/2220 [==============================] - 1s 318us/sample - loss: 1.2467\n"
     ]
    },
    {
     "name": "stdout",
     "output_type": "stream",
     "text": [
      "Epoch 138/150\n",
      "2176/2220 [============================>.] - ETA: 0s - loss: 1.2591\n",
      "Epoch 00138: loss did not improve from 1.22490\n",
      "2220/2220 [==============================] - 1s 276us/sample - loss: 1.2651\n",
      "Epoch 139/150\n",
      "2048/2220 [==========================>...] - ETA: 0s - loss: 1.2494\n",
      "Epoch 00139: loss did not improve from 1.22490\n",
      "\n",
      "Epoch 00139: ReduceLROnPlateau reducing learning rate to 0.00020000000949949026.\n",
      "2220/2220 [==============================] - 1s 353us/sample - loss: 1.2826\n",
      "Epoch 140/150\n",
      "2176/2220 [============================>.] - ETA: 0s - loss: 0.9167\n",
      "Epoch 00140: loss improved from 1.22490 to 0.91718, saving model to nextword-zare.h5\n",
      "2220/2220 [==============================] - 1s 367us/sample - loss: 0.9172\n",
      "Epoch 141/150\n",
      "2112/2220 [===========================>..] - ETA: 0s - loss: 0.7182\n",
      "Epoch 00141: loss improved from 0.91718 to 0.72323, saving model to nextword-zare.h5\n",
      "2220/2220 [==============================] - 1s 385us/sample - loss: 0.7232\n",
      "Epoch 142/150\n",
      "2112/2220 [===========================>..] - ETA: 0s - loss: 0.6526\n",
      "Epoch 00142: loss improved from 0.72323 to 0.65469, saving model to nextword-zare.h5\n",
      "2220/2220 [==============================] - 1s 361us/sample - loss: 0.6547\n",
      "Epoch 143/150\n",
      "2176/2220 [============================>.] - ETA: 0s - loss: 0.6222\n",
      "Epoch 00143: loss improved from 0.65469 to 0.62200, saving model to nextword-zare.h5\n",
      "2220/2220 [==============================] - 1s 363us/sample - loss: 0.6220\n",
      "Epoch 144/150\n",
      "2048/2220 [==========================>...] - ETA: 0s - loss: 0.6041\n",
      "Epoch 00144: loss improved from 0.62200 to 0.60670, saving model to nextword-zare.h5\n",
      "2220/2220 [==============================] - 1s 367us/sample - loss: 0.6067\n",
      "Epoch 145/150\n",
      "2176/2220 [============================>.] - ETA: 0s - loss: 0.5887\n",
      "Epoch 00145: loss improved from 0.60670 to 0.58961, saving model to nextword-zare.h5\n",
      "2220/2220 [==============================] - 1s 374us/sample - loss: 0.5896\n",
      "Epoch 146/150\n",
      "2112/2220 [===========================>..] - ETA: 0s - loss: 0.5811\n",
      "Epoch 00146: loss improved from 0.58961 to 0.57825, saving model to nextword-zare.h5\n",
      "2220/2220 [==============================] - 1s 388us/sample - loss: 0.5783\n",
      "Epoch 147/150\n",
      "2112/2220 [===========================>..] - ETA: 0s - loss: 0.5683\n",
      "Epoch 00147: loss improved from 0.57825 to 0.56978, saving model to nextword-zare.h5\n",
      "2220/2220 [==============================] - 1s 396us/sample - loss: 0.5698\n",
      "Epoch 148/150\n",
      "2048/2220 [==========================>...] - ETA: 0s - loss: 0.5551\n",
      "Epoch 00148: loss improved from 0.56978 to 0.56317, saving model to nextword-zare.h5\n",
      "2220/2220 [==============================] - 1s 374us/sample - loss: 0.5632\n",
      "Epoch 149/150\n",
      "2112/2220 [===========================>..] - ETA: 0s - loss: 0.5476\n",
      "Epoch 00149: loss improved from 0.56317 to 0.55821, saving model to nextword-zare.h5\n",
      "2220/2220 [==============================] - 1s 396us/sample - loss: 0.5582\n",
      "Epoch 150/150\n",
      "2112/2220 [===========================>..] - ETA: 0s - loss: 0.5533\n",
      "Epoch 00150: loss improved from 0.55821 to 0.55095, saving model to nextword-zare.h5\n",
      "2220/2220 [==============================] - 1s 389us/sample - loss: 0.5509\n"
     ]
    },
    {
     "data": {
      "text/plain": [
       "<tensorflow.python.keras.callbacks.History at 0x20da447a248>"
      ]
     },
     "execution_count": 28,
     "metadata": {},
     "output_type": "execute_result"
    }
   ],
   "source": [
    "model.fit(X, y, epochs=150, batch_size=64, callbacks=[checkpoint, reduce, tensorboard_Visualization])"
   ]
  },
  {
   "cell_type": "markdown",
   "metadata": {},
   "source": [
    "### Graph:"
   ]
  },
  {
   "cell_type": "code",
   "execution_count": 17,
   "metadata": {},
   "outputs": [],
   "source": [
    "# https://stackoverflow.com/questions/26649716/how-to-show-pil-image-in-ipython-notebook\n",
    "# tensorboard --logdir=\"./logsnextword1\"\n",
    "# http://DESKTOP-U3TSCVT:6006/\n",
    "\n",
    "#from IPython.display import Image \n",
    "#pil_img = Image(filename='graph1.png')\n",
    "#display(pil_img)"
   ]
  },
  {
   "cell_type": "markdown",
   "metadata": {},
   "source": [
    "## Observation:\n",
    "### We are able to develop a decent next word prediction model and are able to get a declining loss and an overall decent performance."
   ]
  },
  {
   "cell_type": "code",
   "execution_count": 29,
   "metadata": {},
   "outputs": [],
   "source": [
    "def Predict_Next_Words(model, tokenizer, text):\n",
    "    \"\"\"\n",
    "        In this function we are using the tokenizer and models trained\n",
    "        and we are creating the sequence of the text entered and then\n",
    "        using our model to predict and return the the predicted word.\n",
    "    \n",
    "    \"\"\"\n",
    "    for i in range(3):\n",
    "        print(text)\n",
    "        sequence = tokenizer.texts_to_sequences([text])[0]\n",
    "        sequence = np.array(sequence)\n",
    "        \n",
    "        preds = model.predict(sequence)\n",
    "        preds=np.argmax(preds,axis=1)\n",
    "        predicted_word = \"\"\n",
    "        \n",
    "        for key, value in tokenizer.word_index.items():\n",
    "            if value == preds:\n",
    "                predicted_word = key\n",
    "                break\n",
    "        \n",
    "        print(predicted_word)\n",
    "        return predicted_word"
   ]
  },
  {
   "cell_type": "code",
   "execution_count": null,
   "metadata": {},
   "outputs": [
    {
     "name": "stdout",
     "output_type": "stream",
     "text": [
      "Enter your line: رنگی\n",
      "رنگی\n",
      "انبار\n",
      "Enter your line: تصاویر\n",
      "تصاویر\n",
      "رنگی\n",
      "Enter your line: هوش\n",
      "هوش\n",
      "مصنوعی\n",
      "Enter your line: سیاه\n",
      "سیاه\n",
      "سفید\n"
     ]
    }
   ],
   "source": [
    "while(True):\n",
    "\n",
    "    text = input(\"Enter your line: \")\n",
    "    \n",
    "    if text == \"stop\":\n",
    "        print(\"Ending The Program.....\")\n",
    "        break\n",
    "    \n",
    "    else:\n",
    "        try:\n",
    "            text = text.split(\" \")\n",
    "            text = text[-1]\n",
    "\n",
    "            text = ''.join(text)\n",
    "            Predict_Next_Words(model, tokenizer, text)\n",
    "            \n",
    "        except:\n",
    "            continue"
   ]
  },
  {
   "cell_type": "code",
   "execution_count": null,
   "metadata": {},
   "outputs": [],
   "source": []
  }
 ],
 "metadata": {
  "kernelspec": {
   "display_name": "Python 3 (ipykernel)",
   "language": "python",
   "name": "python3"
  },
  "language_info": {
   "codemirror_mode": {
    "name": "ipython",
    "version": 3
   },
   "file_extension": ".py",
   "mimetype": "text/x-python",
   "name": "python",
   "nbconvert_exporter": "python",
   "pygments_lexer": "ipython3",
   "version": "3.7.16"
  }
 },
 "nbformat": 4,
 "nbformat_minor": 2
}
